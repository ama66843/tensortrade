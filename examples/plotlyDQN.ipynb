{
 "cells": [
  {
   "cell_type": "markdown",
   "metadata": {},
   "source": [
    "# TensorTrade - Renderers and Plotly Visualization Chart\n",
    "## Data Loading Function"
   ]
  },
  {
   "cell_type": "code",
   "execution_count": null,
   "metadata": {},
   "outputs": [],
   "source": [
    "# ipywidgets is required to run Plotly in Jupyter Notebook.\n",
    "# Uncomment and run the following line to install it if required.\n",
    "\n",
    "#!pip install ipywidgets"
   ]
  },
  {
   "cell_type": "code",
   "execution_count": 1,
   "metadata": {},
   "outputs": [],
   "source": [
    "import ta\n",
    "\n",
    "import pandas as pd\n",
    "\n",
    "from tensortrade.data.cdd import CryptoDataDownload\n",
    "from tensortrade.feed.core import Stream, DataFeed, NameSpace\n",
    "from tensortrade.oms.exchanges import Exchange\n",
    "from tensortrade.oms.services.execution.simulated import execute_order\n",
    "from tensortrade.oms.instruments import USD, BTC\n",
    "from tensortrade.oms.wallets import Wallet, Portfolio\n",
    "\n",
    "#%matplotlib inline"
   ]
  },
  {
   "cell_type": "code",
   "execution_count": null,
   "metadata": {},
   "outputs": [],
   "source": [
    "def load_csv(filename):\n",
    "    df = pd.read_csv('data/' + filename, skiprows=1)\n",
    "    df.drop(columns=['symbol', 'volume_btc'], inplace=True)\n",
    "\n",
    "    # Fix timestamp form \"2019-10-17 09-AM\" to \"2019-10-17 09-00-00 AM\"\n",
    "    df['date'] = df['date'].str[:14] + '00-00 ' + df['date'].str[-2:]\n",
    "\n",
    "    # Convert the date column type from string to datetime for proper sorting.\n",
    "    df['date'] = pd.to_datetime(df['date'])\n",
    "\n",
    "    # Make sure historical prices are sorted chronologically, oldest first.\n",
    "    df.sort_values(by='date', ascending=True, inplace=True)\n",
    "\n",
    "    df.reset_index(drop=True, inplace=True)\n",
    "\n",
    "    # Format timestamps as you want them to appear on the chart buy/sell marks.\n",
    "    df['date'] = df['date'].dt.strftime('%Y-%m-%d %I:%M %p')\n",
    "\n",
    "    return df"
   ]
  },
  {
   "cell_type": "code",
   "execution_count": null,
   "metadata": {},
   "outputs": [],
   "source": [
    "df = load_csv('Coinbase_BTCUSD_1h.csv')\n",
    "df.head()"
   ]
  },
  {
   "cell_type": "code",
   "execution_count": 2,
   "metadata": {},
   "outputs": [
    {
     "data": {
      "text/html": [
       "<div>\n",
       "<style scoped>\n",
       "    .dataframe tbody tr th:only-of-type {\n",
       "        vertical-align: middle;\n",
       "    }\n",
       "\n",
       "    .dataframe tbody tr th {\n",
       "        vertical-align: top;\n",
       "    }\n",
       "\n",
       "    .dataframe thead th {\n",
       "        text-align: right;\n",
       "    }\n",
       "</style>\n",
       "<table border=\"1\" class=\"dataframe\">\n",
       "  <thead>\n",
       "    <tr style=\"text-align: right;\">\n",
       "      <th></th>\n",
       "      <th>date</th>\n",
       "      <th>unix</th>\n",
       "      <th>open</th>\n",
       "      <th>high</th>\n",
       "      <th>low</th>\n",
       "      <th>close</th>\n",
       "      <th>volume</th>\n",
       "    </tr>\n",
       "  </thead>\n",
       "  <tbody>\n",
       "    <tr>\n",
       "      <th>0</th>\n",
       "      <td>2018-05-15 06:00:00</td>\n",
       "      <td>1526364000</td>\n",
       "      <td>8733.86</td>\n",
       "      <td>8796.68</td>\n",
       "      <td>8707.28</td>\n",
       "      <td>8740.99</td>\n",
       "      <td>559.93</td>\n",
       "    </tr>\n",
       "    <tr>\n",
       "      <th>1</th>\n",
       "      <td>2018-05-15 07:00:00</td>\n",
       "      <td>1526367600</td>\n",
       "      <td>8740.99</td>\n",
       "      <td>8766.00</td>\n",
       "      <td>8721.11</td>\n",
       "      <td>8739.00</td>\n",
       "      <td>273.58</td>\n",
       "    </tr>\n",
       "    <tr>\n",
       "      <th>2</th>\n",
       "      <td>2018-05-15 08:00:00</td>\n",
       "      <td>1526371200</td>\n",
       "      <td>8739.00</td>\n",
       "      <td>8750.27</td>\n",
       "      <td>8660.53</td>\n",
       "      <td>8728.49</td>\n",
       "      <td>917.79</td>\n",
       "    </tr>\n",
       "    <tr>\n",
       "      <th>3</th>\n",
       "      <td>2018-05-15 09:00:00</td>\n",
       "      <td>1526374800</td>\n",
       "      <td>8728.49</td>\n",
       "      <td>8754.40</td>\n",
       "      <td>8701.35</td>\n",
       "      <td>8708.32</td>\n",
       "      <td>182.62</td>\n",
       "    </tr>\n",
       "    <tr>\n",
       "      <th>4</th>\n",
       "      <td>2018-05-15 10:00:00</td>\n",
       "      <td>1526378400</td>\n",
       "      <td>8708.32</td>\n",
       "      <td>8865.00</td>\n",
       "      <td>8695.11</td>\n",
       "      <td>8795.90</td>\n",
       "      <td>1260.69</td>\n",
       "    </tr>\n",
       "  </tbody>\n",
       "</table>\n",
       "</div>"
      ],
      "text/plain": [
       "                 date        unix     open     high      low    close   volume\n",
       "0 2018-05-15 06:00:00  1526364000  8733.86  8796.68  8707.28  8740.99   559.93\n",
       "1 2018-05-15 07:00:00  1526367600  8740.99  8766.00  8721.11  8739.00   273.58\n",
       "2 2018-05-15 08:00:00  1526371200  8739.00  8750.27  8660.53  8728.49   917.79\n",
       "3 2018-05-15 09:00:00  1526374800  8728.49  8754.40  8701.35  8708.32   182.62\n",
       "4 2018-05-15 10:00:00  1526378400  8708.32  8865.00  8695.11  8795.90  1260.69"
      ]
     },
     "execution_count": 2,
     "metadata": {},
     "output_type": "execute_result"
    }
   ],
   "source": [
    "#df2 = load_csv('Bitstamp_BTCUSD_1h.csv')\n",
    "#df2.head()\n",
    "cdd = CryptoDataDownload()\n",
    "\n",
    "df = cdd.fetch(\"Bitstamp\", \"USD\", \"BTC\", \"1h\")\n",
    "df.head()"
   ]
  },
  {
   "cell_type": "markdown",
   "metadata": {},
   "source": [
    "## Data Preparation\n",
    "### Create the dataset features"
   ]
  },
  {
   "cell_type": "code",
   "execution_count": 3,
   "metadata": {
    "scrolled": false
   },
   "outputs": [
    {
     "name": "stderr",
     "output_type": "stream",
     "text": [
      "/usr/local/lib/python3.6/dist-packages/ta/trend.py:768: RuntimeWarning:\n",
      "\n",
      "invalid value encountered in double_scalars\n",
      "\n",
      "/usr/local/lib/python3.6/dist-packages/ta/trend.py:772: RuntimeWarning:\n",
      "\n",
      "invalid value encountered in double_scalars\n",
      "\n"
     ]
    },
    {
     "data": {
      "text/html": [
       "<div>\n",
       "<style scoped>\n",
       "    .dataframe tbody tr th:only-of-type {\n",
       "        vertical-align: middle;\n",
       "    }\n",
       "\n",
       "    .dataframe tbody tr th {\n",
       "        vertical-align: top;\n",
       "    }\n",
       "\n",
       "    .dataframe thead th {\n",
       "        text-align: right;\n",
       "    }\n",
       "</style>\n",
       "<table border=\"1\" class=\"dataframe\">\n",
       "  <thead>\n",
       "    <tr style=\"text-align: right;\">\n",
       "      <th></th>\n",
       "      <th>date</th>\n",
       "      <th>unix</th>\n",
       "      <th>open</th>\n",
       "      <th>high</th>\n",
       "      <th>low</th>\n",
       "      <th>close</th>\n",
       "      <th>volume</th>\n",
       "      <th>volume_adi</th>\n",
       "      <th>volume_obv</th>\n",
       "      <th>volume_cmf</th>\n",
       "      <th>...</th>\n",
       "      <th>momentum_wr</th>\n",
       "      <th>momentum_ao</th>\n",
       "      <th>momentum_kama</th>\n",
       "      <th>momentum_roc</th>\n",
       "      <th>momentum_ppo</th>\n",
       "      <th>momentum_ppo_signal</th>\n",
       "      <th>momentum_ppo_hist</th>\n",
       "      <th>others_dr</th>\n",
       "      <th>others_dlr</th>\n",
       "      <th>others_cr</th>\n",
       "    </tr>\n",
       "  </thead>\n",
       "  <tbody>\n",
       "    <tr>\n",
       "      <th>0</th>\n",
       "      <td>2018-05-15 06:00:00</td>\n",
       "      <td>1526364000</td>\n",
       "      <td>8733.86</td>\n",
       "      <td>8796.68</td>\n",
       "      <td>8707.28</td>\n",
       "      <td>8740.99</td>\n",
       "      <td>559.93</td>\n",
       "      <td>-137.665116</td>\n",
       "      <td>559.93</td>\n",
       "      <td>-0.245861</td>\n",
       "      <td>...</td>\n",
       "      <td>-62.293065</td>\n",
       "      <td>0.0</td>\n",
       "      <td>8740.990000</td>\n",
       "      <td>0.0</td>\n",
       "      <td>0.000000</td>\n",
       "      <td>0.000000</td>\n",
       "      <td>0.000000</td>\n",
       "      <td>3.600372</td>\n",
       "      <td>0.000000</td>\n",
       "      <td>0.000000</td>\n",
       "    </tr>\n",
       "    <tr>\n",
       "      <th>1</th>\n",
       "      <td>2018-05-15 07:00:00</td>\n",
       "      <td>1526367600</td>\n",
       "      <td>8740.99</td>\n",
       "      <td>8766.00</td>\n",
       "      <td>8721.11</td>\n",
       "      <td>8739.00</td>\n",
       "      <td>273.58</td>\n",
       "      <td>-193.185584</td>\n",
       "      <td>286.35</td>\n",
       "      <td>-0.231774</td>\n",
       "      <td>...</td>\n",
       "      <td>-64.519016</td>\n",
       "      <td>0.0</td>\n",
       "      <td>8740.103806</td>\n",
       "      <td>0.0</td>\n",
       "      <td>-4.240196</td>\n",
       "      <td>-0.848039</td>\n",
       "      <td>-3.392157</td>\n",
       "      <td>-0.022766</td>\n",
       "      <td>-0.022769</td>\n",
       "      <td>-0.022766</td>\n",
       "    </tr>\n",
       "    <tr>\n",
       "      <th>2</th>\n",
       "      <td>2018-05-15 08:00:00</td>\n",
       "      <td>1526371200</td>\n",
       "      <td>8739.00</td>\n",
       "      <td>8750.27</td>\n",
       "      <td>8660.53</td>\n",
       "      <td>8728.49</td>\n",
       "      <td>917.79</td>\n",
       "      <td>279.107064</td>\n",
       "      <td>-631.44</td>\n",
       "      <td>0.159371</td>\n",
       "      <td>...</td>\n",
       "      <td>-50.084466</td>\n",
       "      <td>0.0</td>\n",
       "      <td>8734.893333</td>\n",
       "      <td>0.0</td>\n",
       "      <td>1.924992</td>\n",
       "      <td>-0.293433</td>\n",
       "      <td>2.218425</td>\n",
       "      <td>-0.120265</td>\n",
       "      <td>-0.120338</td>\n",
       "      <td>-0.143004</td>\n",
       "    </tr>\n",
       "  </tbody>\n",
       "</table>\n",
       "<p>3 rows × 90 columns</p>\n",
       "</div>"
      ],
      "text/plain": [
       "                 date        unix     open     high      low    close  volume  \\\n",
       "0 2018-05-15 06:00:00  1526364000  8733.86  8796.68  8707.28  8740.99  559.93   \n",
       "1 2018-05-15 07:00:00  1526367600  8740.99  8766.00  8721.11  8739.00  273.58   \n",
       "2 2018-05-15 08:00:00  1526371200  8739.00  8750.27  8660.53  8728.49  917.79   \n",
       "\n",
       "   volume_adi  volume_obv  volume_cmf  ...  momentum_wr  momentum_ao  \\\n",
       "0 -137.665116      559.93   -0.245861  ...   -62.293065          0.0   \n",
       "1 -193.185584      286.35   -0.231774  ...   -64.519016          0.0   \n",
       "2  279.107064     -631.44    0.159371  ...   -50.084466          0.0   \n",
       "\n",
       "   momentum_kama  momentum_roc  momentum_ppo  momentum_ppo_signal  \\\n",
       "0    8740.990000           0.0      0.000000             0.000000   \n",
       "1    8740.103806           0.0     -4.240196            -0.848039   \n",
       "2    8734.893333           0.0      1.924992            -0.293433   \n",
       "\n",
       "   momentum_ppo_hist  others_dr  others_dlr  others_cr  \n",
       "0           0.000000   3.600372    0.000000   0.000000  \n",
       "1          -3.392157  -0.022766   -0.022769  -0.022766  \n",
       "2           2.218425  -0.120265   -0.120338  -0.143004  \n",
       "\n",
       "[3 rows x 90 columns]"
      ]
     },
     "execution_count": 3,
     "metadata": {},
     "output_type": "execute_result"
    }
   ],
   "source": [
    "dataset = ta.add_all_ta_features(df, 'open', 'high', 'low', 'close', 'volume', fillna=True)\n",
    "dataset.head(3)\n",
    "\n",
    "#recent Bitstamp data\n",
    "#data_set = ta.add_all_ta_features(data, 'open', 'high', 'low', 'close', 'volume', fillna=True)\n",
    "#data_set.head()"
   ]
  },
  {
   "cell_type": "markdown",
   "metadata": {},
   "source": [
    "### Create Chart Price History Data\n",
    "Note: It is recommended to create the chart data *after* creating and cleaning the dataset to ensure one-to-one mapping between the historical prices data and the dataset."
   ]
  },
  {
   "cell_type": "code",
   "execution_count": 4,
   "metadata": {
    "scrolled": true
   },
   "outputs": [
    {
     "data": {
      "text/html": [
       "<div>\n",
       "<style scoped>\n",
       "    .dataframe tbody tr th:only-of-type {\n",
       "        vertical-align: middle;\n",
       "    }\n",
       "\n",
       "    .dataframe tbody tr th {\n",
       "        vertical-align: top;\n",
       "    }\n",
       "\n",
       "    .dataframe thead th {\n",
       "        text-align: right;\n",
       "    }\n",
       "</style>\n",
       "<table border=\"1\" class=\"dataframe\">\n",
       "  <thead>\n",
       "    <tr style=\"text-align: right;\">\n",
       "      <th></th>\n",
       "      <th>date</th>\n",
       "      <th>open</th>\n",
       "      <th>high</th>\n",
       "      <th>low</th>\n",
       "      <th>close</th>\n",
       "      <th>volume</th>\n",
       "    </tr>\n",
       "  </thead>\n",
       "  <tbody>\n",
       "    <tr>\n",
       "      <th>0</th>\n",
       "      <td>2018-05-15 06:00:00</td>\n",
       "      <td>8733.86</td>\n",
       "      <td>8796.68</td>\n",
       "      <td>8707.28</td>\n",
       "      <td>8740.99</td>\n",
       "      <td>559.93</td>\n",
       "    </tr>\n",
       "    <tr>\n",
       "      <th>1</th>\n",
       "      <td>2018-05-15 07:00:00</td>\n",
       "      <td>8740.99</td>\n",
       "      <td>8766.00</td>\n",
       "      <td>8721.11</td>\n",
       "      <td>8739.00</td>\n",
       "      <td>273.58</td>\n",
       "    </tr>\n",
       "    <tr>\n",
       "      <th>2</th>\n",
       "      <td>2018-05-15 08:00:00</td>\n",
       "      <td>8739.00</td>\n",
       "      <td>8750.27</td>\n",
       "      <td>8660.53</td>\n",
       "      <td>8728.49</td>\n",
       "      <td>917.79</td>\n",
       "    </tr>\n",
       "  </tbody>\n",
       "</table>\n",
       "</div>"
      ],
      "text/plain": [
       "                 date     open     high      low    close  volume\n",
       "0 2018-05-15 06:00:00  8733.86  8796.68  8707.28  8740.99  559.93\n",
       "1 2018-05-15 07:00:00  8740.99  8766.00  8721.11  8739.00  273.58\n",
       "2 2018-05-15 08:00:00  8739.00  8750.27  8660.53  8728.49  917.79"
      ]
     },
     "metadata": {},
     "output_type": "display_data"
    }
   ],
   "source": [
    "price_history = dataset[['date', 'open', 'high', 'low', 'close', 'volume']]  # chart data\n",
    "display(price_history.head(3))\n",
    "\n",
    "dataset.drop(columns=['date', 'open', 'high', 'low', 'close', 'volume'], inplace=True)"
   ]
  },
  {
   "cell_type": "code",
   "execution_count": null,
   "metadata": {},
   "outputs": [],
   "source": [
    "price_history2 = data_set[['date', 'open', 'high', 'low', 'close', 'volume']]  # chart data\n",
    "display(price_history2.head(3))\n",
    "\n",
    "data_set.drop(columns=['date', 'open', 'high', 'low', 'close', 'volume'], inplace=True)"
   ]
  },
  {
   "cell_type": "code",
   "execution_count": null,
   "metadata": {},
   "outputs": [],
   "source": [
    "price_history.tail()"
   ]
  },
  {
   "cell_type": "markdown",
   "metadata": {},
   "source": [
    "## Setup Trading Environment\n",
    "### Create Data Feeds"
   ]
  },
  {
   "cell_type": "code",
   "execution_count": 10,
   "metadata": {},
   "outputs": [],
   "source": [
    "bitstamp = Exchange(\"bitstamp\", service=execute_order)(\n",
    "    Stream.source(price_history['close'].tolist(), dtype=\"float\").rename(\"USD-BTC\")\n",
    ")\n",
    "\n",
    "#bitstamp = Exchange(\"bitstamp\", service=execute_order)(\n",
    "#    Stream.source(price_history2['close'].tolist(), dtype=\"float\").rename(\"USD-BTC\")\n",
    "#)\n",
    "\n",
    "portfolio = Portfolio(USD, [\n",
    "    Wallet(coinbase, 10000 * USD),\n",
    "    Wallet(coinbase, 10 * BTC),\n",
    "])\n",
    "\n",
    "# portfolio2 = Portfolio(USD, [\n",
    "#     Wallet(coinbase, 10000 * USD),\n",
    "#     Wallet(coinbase, 10 * BTC),\n",
    "# ])\n",
    "\n",
    "with NameSpace(\"bitstamp\"):\n",
    "    streams = [Stream.source(dataset[c].tolist(), dtype=\"float\").rename(c) for c in dataset.columns]\n",
    "\n",
    "# with NameSpace(\"bitstamp\"):\n",
    "#     streams2 = [Stream.source(data_set[c].tolist(), dtype=\"float\").rename(c) for c in data_set.columns]\n",
    "\n",
    "feed = DataFeed(streams)\n",
    "#feed2 = DataFeed(streams2)\n",
    "\n",
    "#feed2.next()"
   ]
  },
  {
   "cell_type": "code",
   "execution_count": null,
   "metadata": {},
   "outputs": [],
   "source": [
    "feed.next()"
   ]
  },
  {
   "cell_type": "markdown",
   "metadata": {},
   "source": [
    "### Trading Environment Renderers\n",
    "A renderer is a channel for the trading environment to output its current state. One or more renderers can be attached to the environment at the same time. For example, you can let the environment draw a chart and log to a file at the same time.\n",
    "\n",
    "Notice that while all renderers can technically be used together, you need to select the best combination to avoid undesired results. For example, PlotlyTradingChart can work well with FileLogger but may not display well with ScreenLogger.\n",
    "\n",
    "Renderer can be set by name (string) or class, single or list. Available renderers are:\n",
    "* `'screenlog'` or `ScreenLogger`: Shows results on the screen.\n",
    "* `'filelog'` or `FileLogger`: Logs results to a file.\n",
    "* `'plotly'` or `PlotlyTradingChart`: A trading chart based on Plotly.\n",
    "\n",
    "#### Examples:\n",
    "\n",
    "* renderers = 'screenlog' (default)\n",
    "* renderers = ['screenlog', 'filelog']\n",
    "* renderers = ScreenLogger()\n",
    "* renderers = ['screenlog', `FileLogger()`]\n",
    "* renderers = [`FileLogger(filename='example.log')`]\n",
    "\n",
    "Renderers can also be created and configured first then attached to the environment as seen in a following example.\n",
    "\n",
    "### Trading Environment with a Single Renderer"
   ]
  },
  {
   "cell_type": "code",
   "execution_count": 6,
   "metadata": {},
   "outputs": [],
   "source": [
    "import tensortrade.env.default as default\n",
    "\n",
    "env = default.create(\n",
    "    portfolio=portfolio,\n",
    "    action_scheme=\"managed-risk\",\n",
    "    reward_scheme=\"risk-adjusted\",\n",
    "    feed=feed,\n",
    "    renderer=\"screen-log\",  # ScreenLogger used with default settings\n",
    "    window_size=40\n",
    ")"
   ]
  },
  {
   "cell_type": "code",
   "execution_count": null,
   "metadata": {
    "scrolled": false
   },
   "outputs": [],
   "source": [
    "from tensortrade.agents import DQNAgent\n",
    "\n",
    "agent = DQNAgent(env)\n",
    "agent.train(n_episodes=4, n_steps=1000, render_interval=500)"
   ]
  },
  {
   "cell_type": "markdown",
   "metadata": {},
   "source": [
    "### Environment with Multiple Renderers\n",
    "Create PlotlyTradingChart and FileLogger renderers. Configuring renderers is optional as they can be used with their default settings."
   ]
  },
  {
   "cell_type": "code",
   "execution_count": 11,
   "metadata": {},
   "outputs": [],
   "source": [
    "from tensortrade.env.default.renderers import PlotlyTradingChart, FileLogger\n",
    "\n",
    "chart_renderer = PlotlyTradingChart(\n",
    "    display=True,  # show the chart on screen (default)\n",
    "    height=800,  # affects both displayed and saved file height. None for 100% height.\n",
    "    save_format=\"html\",  # save the chart to an HTML file\n",
    "    auto_open_html=True,  # open the saved HTML chart in a new browser tab\n",
    ")\n",
    "\n",
    "file_logger = FileLogger(\n",
    "    filename=\"example.log\",  # omit or None for automatic file name\n",
    "    path=\"training_logs\"  # create a new directory if doesn't exist, None for no directory\n",
    ")"
   ]
  },
  {
   "cell_type": "markdown",
   "metadata": {},
   "source": [
    "### Environement with Multiple Renderers\n",
    "\n",
    "With the plotly renderer you must provide an parameter called `renderer_feed`. This is a `DataFeed` instance that provides all the information that is required by a renderer to function."
   ]
  },
  {
   "cell_type": "code",
   "execution_count": 12,
   "metadata": {},
   "outputs": [],
   "source": [
    "renderer_feed = DataFeed([\n",
    "    Stream.source(price_history[c].tolist(), dtype=\"float\").rename(c) for c in price_history]\n",
    ")\n",
    "\n",
    "env = default.create(\n",
    "    portfolio=portfolio,\n",
    "    action_scheme=\"managed-risk\",\n",
    "    reward_scheme=\"risk-adjusted\",\n",
    "    feed=feed,\n",
    "    window_size=40,\n",
    "    renderer_feed=renderer_feed,\n",
    "    renderer=chart_renderer\n",
    ")"
   ]
  },
  {
   "cell_type": "code",
   "execution_count": null,
   "metadata": {},
   "outputs": [],
   "source": [
    "renderer_feed2 = DataFeed([\n",
    "    Stream.source(price_history2[c].tolist(), dtype=\"float\").rename(c) for c in price_history2]\n",
    ")\n",
    "\n",
    "env2 = default.create(\n",
    "    portfolio=portfolio2,\n",
    "    action_scheme=\"managed-risk\",\n",
    "    reward_scheme=\"risk-adjusted\",\n",
    "    feed=feed2,\n",
    "    window_size=40,\n",
    "    renderer_feed=renderer_feed2,\n",
    "    renderer=chart_renderer\n",
    ")"
   ]
  },
  {
   "cell_type": "code",
   "execution_count": null,
   "metadata": {},
   "outputs": [],
   "source": [
    "price_history2.head()"
   ]
  },
  {
   "cell_type": "code",
   "execution_count": null,
   "metadata": {},
   "outputs": [],
   "source": [
    "print(portfolio)"
   ]
  },
  {
   "cell_type": "code",
   "execution_count": null,
   "metadata": {},
   "outputs": [],
   "source": [
    "pip install ipywidgets"
   ]
  },
  {
   "cell_type": "markdown",
   "metadata": {},
   "source": [
    "## Setup and Train DQN Agent\n",
    "The green and red arrows shown on the chart represent buy and sell trades respectively. The head of each arrow falls at the trade execution price."
   ]
  },
  {
   "cell_type": "code",
   "execution_count": null,
   "metadata": {
    "scrolled": false
   },
   "outputs": [
    {
     "name": "stdout",
     "output_type": "stream",
     "text": [
      "====      AGENT ID: 2a182378-ac84-444e-a864-c0eec9e873d5      ====\n"
     ]
    }
   ],
   "source": [
    "from tensortrade.agents import DQNAgent\n",
    "\n",
    "agent = DQNAgent(env)\n",
    "agent.train(n_episodes=4, n_steps=5000, render_interval=2500)"
   ]
  },
  {
   "cell_type": "code",
   "execution_count": null,
   "metadata": {},
   "outputs": [],
   "source": [
    "from tensortrade.agents import DQNAgent\n",
    "\n",
    "agent2 = DQNAgent(env2)\n",
    "agent2.train(n_episodes=4, n_steps=1000, render_interval=500)"
   ]
  },
  {
   "cell_type": "code",
   "execution_count": null,
   "metadata": {},
   "outputs": [],
   "source": [
    "from tensortrade.agents import A2CAgent\n",
    "\n",
    "agentA2C = A2CAgent(env)\n",
    "agentA2C.train(n_episodes=4, n_steps=1000, render_interval=500)"
   ]
  },
  {
   "cell_type": "markdown",
   "metadata": {},
   "source": [
    "## Direct Performance and Net Worth Plotting\n",
    "Alternatively, the final performance and net worth can be displayed using pandas via Matplotlib."
   ]
  },
  {
   "cell_type": "code",
   "execution_count": null,
   "metadata": {},
   "outputs": [],
   "source": [
    "#%matplotlib inline\n",
    "\n",
    "portfolio.performance.plot()"
   ]
  },
  {
   "cell_type": "code",
   "execution_count": null,
   "metadata": {},
   "outputs": [],
   "source": [
    "portfolio.performance.net_worth.plot()"
   ]
  },
  {
   "cell_type": "code",
   "execution_count": null,
   "metadata": {},
   "outputs": [],
   "source": []
  }
 ],
 "metadata": {
  "kernelspec": {
   "display_name": "Python 3",
   "language": "python",
   "name": "python3"
  },
  "language_info": {
   "codemirror_mode": {
    "name": "ipython",
    "version": 3
   },
   "file_extension": ".py",
   "mimetype": "text/x-python",
   "name": "python",
   "nbconvert_exporter": "python",
   "pygments_lexer": "ipython3",
   "version": "3.6.9"
  }
 },
 "nbformat": 4,
 "nbformat_minor": 4
}
